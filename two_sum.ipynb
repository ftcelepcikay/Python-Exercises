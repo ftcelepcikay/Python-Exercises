{
  "nbformat": 4,
  "nbformat_minor": 0,
  "metadata": {
    "colab": {
      "name": "two_sum.ipynb",
      "provenance": [],
      "authorship_tag": "ABX9TyMSZblQIC6/CbEKsS3VvO40",
      "include_colab_link": true
    },
    "kernelspec": {
      "name": "python3",
      "display_name": "Python 3"
    },
    "language_info": {
      "name": "python"
    }
  },
  "cells": [
    {
      "cell_type": "markdown",
      "metadata": {
        "id": "view-in-github",
        "colab_type": "text"
      },
      "source": [
        "<a href=\"https://colab.research.google.com/github/ftcelepcikay/Python-Exercises/blob/master/two_sum.ipynb\" target=\"_parent\"><img src=\"https://colab.research.google.com/assets/colab-badge.svg\" alt=\"Open In Colab\"/></a>"
      ]
    },
    {
      "cell_type": "code",
      "metadata": {
        "id": "z5IirMI4k8K_"
      },
      "source": [
        "# two sums using hash map"
      ],
      "execution_count": null,
      "outputs": []
    },
    {
      "cell_type": "code",
      "metadata": {
        "id": "qIaN46IkwNyy"
      },
      "source": [
        "def two_sum(numbers, t):\n",
        "  hm = {}\n",
        "  for i in range(len(numbers)):\n",
        "    if numbers[i] in hm: # \"in hm\" is much more efficient than \"in hm.keys()\"\"\n",
        "      return hm[numbers[i]], i\n",
        "    else:\n",
        "      hm[t-numbers[i]]=i\n"
      ],
      "execution_count": null,
      "outputs": []
    },
    {
      "cell_type": "code",
      "metadata": {
        "colab": {
          "base_uri": "https://localhost:8080/"
        },
        "id": "w_kwpi0yySYx",
        "outputId": "f254d2e9-c2e8-4e78-e0df-e30fd60aa662"
      },
      "source": [
        "nums = [2,7,11,15]\n",
        "target = 9\n",
        "print(two_sum(nums, target))"
      ],
      "execution_count": null,
      "outputs": [
        {
          "output_type": "stream",
          "text": [
            "(0, 1)\n"
          ],
          "name": "stdout"
        }
      ]
    },
    {
      "cell_type": "code",
      "metadata": {
        "colab": {
          "base_uri": "https://localhost:8080/"
        },
        "id": "8sOtIDnyyl0O",
        "outputId": "88c668c2-2856-4c44-8328-62c87afcb301"
      },
      "source": [
        "nums = [3,2,4]\n",
        "target = 6\n",
        "print(two_sum(nums, target))"
      ],
      "execution_count": null,
      "outputs": [
        {
          "output_type": "stream",
          "text": [
            "(1, 2)\n"
          ],
          "name": "stdout"
        }
      ]
    },
    {
      "cell_type": "code",
      "metadata": {
        "id": "MJgBeVP84IfE"
      },
      "source": [
        ""
      ],
      "execution_count": null,
      "outputs": []
    }
  ]
}