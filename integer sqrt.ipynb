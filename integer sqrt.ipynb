{
 "cells": [
  {
   "cell_type": "code",
   "execution_count": null,
   "metadata": {},
   "outputs": [],
   "source": [
    "#!/usr/bin/python\n",
    "import math"
   ]
  },
  {
   "cell_type": "code",
   "execution_count": null,
   "metadata": {},
   "outputs": [],
   "source": [
    "# sqrt function\n",
    "def sqrt(x):\n",
    "    if(x < 0):\n",
    "        print(\"Please input a positive integer\")\n",
    "        return -1\n",
    "    elif(x <= 1):\n",
    "        return x\n",
    "    else:\n",
    "        i = 0\n",
    "        while(i**2<=num):\n",
    "            print(i, \"**2 = \", str(i**2))    \n",
    "            i+=1\n",
    "\n",
    "    return i-1"
   ]
  },
  {
   "cell_type": "code",
   "metadata": {},
   "source": [
    "# testing\n",
    "num = int(input('enter an integer, I will find int(sqrt(num))'))\n",
    "sq1 = (math.floor(math.sqrt((num))))\n",
    "print(sq1)\n",
    "\n",
    "\n",
    "sq2 = sqrt(num)\n",
    "print(\"sqrt(num)= \", sq2)"
   ]
  }
 ],
 "metadata": {
  "kernelspec": {
   "display_name": "Python 3",
   "language": "python",
   "name": "python3"
  },
  "language_info": {
   "codemirror_mode": {
    "name": "ipython",
    "version": 3
   },
   "file_extension": ".py",
   "mimetype": "text/x-python",
   "name": "python",
   "nbconvert_exporter": "python",
   "pygments_lexer": "ipython3",
   "version": "3.7.3"
  }
 },
 "nbformat": 4,
 "nbformat_minor": 2
}
