{
 "cells": [
  {
   "cell_type": "code",
   "execution_count": 1,
   "metadata": {},
   "outputs": [
    {
     "name": "stdout",
     "output_type": "stream",
     "text": [
      "[37, 72, 98, 99, 46, 43, 29, 17, 59, 20, 56, 79]\n"
     ]
    }
   ],
   "source": [
    "import random\n",
    "\n",
    "a = random.sample(range(100),random.randint(1,20))\n",
    "print(a)"
   ]
  },
  {
   "cell_type": "code",
   "execution_count": 2,
   "metadata": {},
   "outputs": [
    {
     "name": "stdout",
     "output_type": "stream",
     "text": [
      "[17, 20, 29, 37, 43, 46, 56, 59, 72, 79, 98, 99]\n"
     ]
    }
   ],
   "source": [
    "a.sort()\n",
    "print(a)"
   ]
  },
  {
   "cell_type": "code",
   "execution_count": 3,
   "metadata": {},
   "outputs": [
    {
     "name": "stdout",
     "output_type": "stream",
     "text": [
      "[9, 17, 21, 23, 29, 45, 46, 47, 49, 53, 59, 63, 67, 71, 72, 74, 77, 79, 82]\n"
     ]
    }
   ],
   "source": [
    "b = random.sample(range(100),random.randint(1,20))\n",
    "b.sort()\n",
    "print(b)"
   ]
  },
  {
   "cell_type": "code",
   "execution_count": 4,
   "metadata": {},
   "outputs": [
    {
     "name": "stdout",
     "output_type": "stream",
     "text": [
      "[17, 29, 46, 59, 72, 79]\n"
     ]
    }
   ],
   "source": [
    "ab = []\n",
    "for elem in a:\n",
    "    if((elem in b) and (elem not in ab)):\n",
    "        ab.append(elem)\n",
    "print(ab)"
   ]
  },
  {
   "cell_type": "code",
   "execution_count": null,
   "metadata": {},
   "outputs": [],
   "source": []
  }
 ],
 "metadata": {
  "kernelspec": {
   "display_name": "Python 3",
   "language": "python",
   "name": "python3"
  },
  "language_info": {
   "codemirror_mode": {
    "name": "ipython",
    "version": 3
   },
   "file_extension": ".py",
   "mimetype": "text/x-python",
   "name": "python",
   "nbconvert_exporter": "python",
   "pygments_lexer": "ipython3",
   "version": "3.7.3"
  }
 },
 "nbformat": 4,
 "nbformat_minor": 2
}
