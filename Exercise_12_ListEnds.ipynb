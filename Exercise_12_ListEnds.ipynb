{
  "nbformat": 4,
  "nbformat_minor": 0,
  "metadata": {
    "colab": {
      "name": "Exercise 12_ListEnds.ipynb",
      "provenance": [],
      "authorship_tag": "ABX9TyNyOnOHTawZkYtLFJrs9q4V",
      "include_colab_link": true
    },
    "kernelspec": {
      "name": "python3",
      "display_name": "Python 3"
    }
  },
  "cells": [
    {
      "cell_type": "markdown",
      "metadata": {
        "id": "view-in-github",
        "colab_type": "text"
      },
      "source": [
        "<a href=\"https://colab.research.google.com/github/ftcelepcikay/Python-Exercises/blob/master/Exercise_12_ListEnds.ipynb\" target=\"_parent\"><img src=\"https://colab.research.google.com/assets/colab-badge.svg\" alt=\"Open In Colab\"/></a>"
      ]
    },
    {
      "cell_type": "markdown",
      "metadata": {
        "id": "Y8luc4YXVVYh",
        "colab_type": "text"
      },
      "source": [
        "Write a program that takes a list of numbers (for example, a = [5, 10, 15, 20, 25]) and makes a new list of only the first and last elements of the given list. For practice, write this code inside a function."
      ]
    },
    {
      "cell_type": "code",
      "metadata": {
        "id": "Fg93aymanJnB",
        "colab_type": "code",
        "colab": {}
      },
      "source": [
        "def list_first_last(list1):\n",
        "  first_last = []\n",
        "  first_last.append(list1[0])\n",
        "  first_last.append(list1[-1])\n",
        "  return first_last\n"
      ],
      "execution_count": 0,
      "outputs": []
    },
    {
      "cell_type": "code",
      "metadata": {
        "id": "iUJSPl0FVcug",
        "colab_type": "code",
        "colab": {}
      },
      "source": [
        "a = [5, 10, 15, 20, 25]"
      ],
      "execution_count": 0,
      "outputs": []
    },
    {
      "cell_type": "code",
      "metadata": {
        "id": "sLWoYpNYVfMI",
        "colab_type": "code",
        "colab": {
          "base_uri": "https://localhost:8080/",
          "height": 34
        },
        "outputId": "c4cbf569-1456-4a2d-84fc-e9c67bcf8976"
      },
      "source": [
        "x = list_first_last(a)\n",
        "print(x)"
      ],
      "execution_count": 3,
      "outputs": [
        {
          "output_type": "stream",
          "text": [
            "[5, 25]\n"
          ],
          "name": "stdout"
        }
      ]
    },
    {
      "cell_type": "code",
      "metadata": {
        "id": "XXDtW62gVn9x",
        "colab_type": "code",
        "colab": {}
      },
      "source": [
        ""
      ],
      "execution_count": 0,
      "outputs": []
    }
  ]
}