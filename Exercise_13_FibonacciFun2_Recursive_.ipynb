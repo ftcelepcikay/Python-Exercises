{
  "nbformat": 4,
  "nbformat_minor": 0,
  "metadata": {
    "colab": {
      "name": "Exercise 13_FibonacciFun2_Recursive .ipynb",
      "provenance": [],
      "authorship_tag": "ABX9TyOplXfuDdb8m75xAoU/elOz",
      "include_colab_link": true
    },
    "kernelspec": {
      "name": "python3",
      "display_name": "Python 3"
    }
  },
  "cells": [
    {
      "cell_type": "markdown",
      "metadata": {
        "id": "view-in-github",
        "colab_type": "text"
      },
      "source": [
        "<a href=\"https://colab.research.google.com/github/ftcelepcikay/Python-Exercises/blob/master/Exercise_13_FibonacciFun2_Recursive_.ipynb\" target=\"_parent\"><img src=\"https://colab.research.google.com/assets/colab-badge.svg\" alt=\"Open In Colab\"/></a>"
      ]
    },
    {
      "cell_type": "markdown",
      "metadata": {
        "id": "Y8luc4YXVVYh",
        "colab_type": "text"
      },
      "source": [
        "Write Fibonacci function to determine f(x)"
      ]
    },
    {
      "cell_type": "code",
      "metadata": {
        "id": "Fg93aymanJnB",
        "colab_type": "code",
        "colab": {}
      },
      "source": [
        "def fibonacciFun(num):  \n",
        "  if (num == 1):\n",
        "    return 1\n",
        "  elif(num == 2):\n",
        "    return 1\n",
        "  else:\n",
        "    return fibonacciFun(num-1)+fibonacciFun(num-2)"
      ],
      "execution_count": 0,
      "outputs": []
    },
    {
      "cell_type": "code",
      "metadata": {
        "id": "iUJSPl0FVcug",
        "colab_type": "code",
        "colab": {
          "base_uri": "https://localhost:8080/",
          "height": 51
        },
        "outputId": "942c1d21-ccd7-4ad8-aa2f-7ff548a953dd"
      },
      "source": [
        "x = int(input(\"Enter a positive integer x to compute fibonacci f(x):\"))\n",
        "while (x<1):\n",
        "  x = int(input(\"Enter a positive integer x to compute fibonacci f(x):\"))\n",
        "print(fibonacciFun(x))"
      ],
      "execution_count": 3,
      "outputs": [
        {
          "output_type": "stream",
          "text": [
            "Enter a positive integer x to compute fibonacci f(x):10\n",
            "55\n"
          ],
          "name": "stdout"
        }
      ]
    },
    {
      "cell_type": "code",
      "metadata": {
        "id": "XXDtW62gVn9x",
        "colab_type": "code",
        "colab": {}
      },
      "source": [
        ""
      ],
      "execution_count": 0,
      "outputs": []
    }
  ]
}