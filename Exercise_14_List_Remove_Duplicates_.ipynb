{
  "nbformat": 4,
  "nbformat_minor": 0,
  "metadata": {
    "colab": {
      "name": "Exercise 14_List Remove Duplicates .ipynb",
      "provenance": [],
      "authorship_tag": "ABX9TyN2zyFWI54hoe1LhXy6jjId",
      "include_colab_link": true
    },
    "kernelspec": {
      "name": "python3",
      "display_name": "Python 3"
    }
  },
  "cells": [
    {
      "cell_type": "markdown",
      "metadata": {
        "id": "view-in-github",
        "colab_type": "text"
      },
      "source": [
        "<a href=\"https://colab.research.google.com/github/ftcelepcikay/Python-Exercises/blob/master/Exercise_14_List_Remove_Duplicates_.ipynb\" target=\"_parent\"><img src=\"https://colab.research.google.com/assets/colab-badge.svg\" alt=\"Open In Colab\"/></a>"
      ]
    },
    {
      "cell_type": "markdown",
      "metadata": {
        "id": "Y8luc4YXVVYh",
        "colab_type": "text"
      },
      "source": [
        "Write a program (function!) that takes a list and returns a new list that contains all the elements of the first list minus all the duplicates."
      ]
    },
    {
      "cell_type": "code",
      "metadata": {
        "id": "Fg93aymanJnB",
        "colab_type": "code",
        "colab": {}
      },
      "source": [
        "def removeDuplicates(list1):  \n",
        "  newlist = []\n",
        "  for elem in list1:\n",
        "    if elem not in newlist:\n",
        "      newlist.append(elem)\n",
        "  return newlist"
      ],
      "execution_count": 0,
      "outputs": []
    },
    {
      "cell_type": "code",
      "metadata": {
        "id": "mVXR9fAnkDTA",
        "colab_type": "code",
        "colab": {}
      },
      "source": [
        "def removeDuplicates2(list1):  \n",
        "  set1 = set(list1)\n",
        "  newlist = list(set1)\n",
        "  return newlist"
      ],
      "execution_count": 0,
      "outputs": []
    },
    {
      "cell_type": "code",
      "metadata": {
        "id": "iUJSPl0FVcug",
        "colab_type": "code",
        "colab": {
          "base_uri": "https://localhost:8080/",
          "height": 51
        },
        "outputId": "a41a3b5a-1790-4e89-f9b3-913c63cc1a60"
      },
      "source": [
        "x = [1,1,2,3,5,5,10,3,8,20,1]\n",
        "print(removeDuplicates(x))\n",
        "print(removeDuplicates2(x))"
      ],
      "execution_count": 3,
      "outputs": [
        {
          "output_type": "stream",
          "text": [
            "[1, 2, 3, 5, 10, 8, 20]\n",
            "[1, 2, 3, 5, 8, 10, 20]\n"
          ],
          "name": "stdout"
        }
      ]
    },
    {
      "cell_type": "code",
      "metadata": {
        "id": "XXDtW62gVn9x",
        "colab_type": "code",
        "colab": {}
      },
      "source": [
        ""
      ],
      "execution_count": 0,
      "outputs": []
    }
  ]
}