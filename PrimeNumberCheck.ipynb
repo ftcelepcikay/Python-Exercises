{
 "cells": [
  {
   "cell_type": "markdown",
   "metadata": {},
   "source": [
    "Python supports to have an else statement associated with a loop statement\n",
    "If the else statement is used with a for loop, the else statement is executed when the loop has exhausted iterating the list.\n",
    "If the else statement is used with a while loop, the else statement is executed when the condition becomes false.\n",
    "The following example illustrates the combination of an else statement with a for statement that searches for prime numbers\n"
   ]
  },
  {
   "cell_type": "code",
   "execution_count": 4,
   "metadata": {},
   "outputs": [
    {
     "name": "stdout",
     "output_type": "stream",
     "text": [
      "2 is a prime number\n",
      "3 is a prime number\n",
      "4 = 2 * 2.\n",
      "5 is a prime number\n",
      "6 = 2 * 3.\n",
      "7 is a prime number\n",
      "8 = 2 * 4.\n",
      "9 is a prime number\n",
      "10 = 2 * 5.\n"
     ]
    }
   ],
   "source": [
    "#!/usr/bin/python\n",
    "import math\n",
    "\n",
    "for num in range(2,11):\n",
    "#    for divisor in range(2,num):\n",
    "    for divisor in range(2,math.floor(math.sqrt(num))+1):\n",
    "        if(num%div==0):\n",
    "            quotient = num/divisor\n",
    "            print(\"%i = %i * %i.\"%(num,divisor,quotient))\n",
    "            break\n",
    "    else:\n",
    "        print(str(num)+\" is a prime number\")"
   ]
  },
  {
   "cell_type": "code",
   "execution_count": null,
   "metadata": {},
   "outputs": [],
   "source": []
  }
 ],
 "metadata": {
  "kernelspec": {
   "display_name": "Python 3",
   "language": "python",
   "name": "python3"
  },
  "language_info": {
   "codemirror_mode": {
    "name": "ipython",
    "version": 3
   },
   "file_extension": ".py",
   "mimetype": "text/x-python",
   "name": "python",
   "nbconvert_exporter": "python",
   "pygments_lexer": "ipython3",
   "version": "3.7.3"
  }
 },
 "nbformat": 4,
 "nbformat_minor": 2
}
