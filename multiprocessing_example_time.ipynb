{
  "nbformat": 4,
  "nbformat_minor": 0,
  "metadata": {
    "colab": {
      "name": "multiprocessing_example_time.ipynb",
      "provenance": [],
      "authorship_tag": "ABX9TyObussKnMOWNtNGfZx0TO6n",
      "include_colab_link": true
    },
    "kernelspec": {
      "name": "python3",
      "display_name": "Python 3"
    }
  },
  "cells": [
    {
      "cell_type": "markdown",
      "metadata": {
        "id": "view-in-github",
        "colab_type": "text"
      },
      "source": [
        "<a href=\"https://colab.research.google.com/github/ftcelepcikay/Python-Exercises/blob/master/multiprocessing_example_time.ipynb\" target=\"_parent\"><img src=\"https://colab.research.google.com/assets/colab-badge.svg\" alt=\"Open In Colab\"/></a>"
      ]
    },
    {
      "cell_type": "code",
      "metadata": {
        "id": "wZHB0Ki1RFtL",
        "colab_type": "code",
        "colab": {}
      },
      "source": [
        "from joblib import Parallel, delayed\n",
        "import multiprocessing\n",
        "import time\n",
        " \n",
        "inputs = range(10) \n",
        "def processInput(i):\n",
        "  time.sleep(1)\n",
        "  return i * i "
      ],
      "execution_count": 0,
      "outputs": []
    },
    {
      "cell_type": "code",
      "metadata": {
        "id": "Iqbn02ONgiZS",
        "colab_type": "code",
        "colab": {
          "base_uri": "https://localhost:8080/",
          "height": 34
        },
        "outputId": "ec43e0cb-1ea2-4f23-883b-4a59f286a4b0"
      },
      "source": [
        "# time of this simple function if no multiprocessing is utilized\n",
        "start = time.time()\n",
        "for i in inputs:\n",
        "  processInput(i)\n",
        "end = time.time()\n",
        "print(\"time: \", end-start)"
      ],
      "execution_count": 2,
      "outputs": [
        {
          "output_type": "stream",
          "text": [
            "time:  10.011218547821045\n"
          ],
          "name": "stdout"
        }
      ]
    },
    {
      "cell_type": "code",
      "metadata": {
        "id": "ab9eDkD4RKVJ",
        "colab_type": "code",
        "colab": {
          "base_uri": "https://localhost:8080/",
          "height": 34
        },
        "outputId": "86a261f5-0b89-43d9-b5e7-9ebc2cd6f78b"
      },
      "source": [
        "# time of this simple function if multiprocessing is utilized\n",
        "start = time.time()\n",
        "num_cores = multiprocessing.cpu_count()   \n",
        "results = Parallel(n_jobs=num_cores)(delayed(processInput)(i) for i in inputs)\n",
        "end = time.time()\n",
        "print(\"time: \", end-start)"
      ],
      "execution_count": 3,
      "outputs": [
        {
          "output_type": "stream",
          "text": [
            "time:  5.6330931186676025\n"
          ],
          "name": "stdout"
        }
      ]
    }
  ]
}