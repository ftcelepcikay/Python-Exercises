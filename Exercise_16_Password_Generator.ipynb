{
  "nbformat": 4,
  "nbformat_minor": 0,
  "metadata": {
    "colab": {
      "name": "Exercise 16 - Password Generator.ipynb",
      "provenance": [],
      "authorship_tag": "ABX9TyPMdAzDW73sxebt/ZSaqwNO",
      "include_colab_link": true
    },
    "kernelspec": {
      "name": "python3",
      "display_name": "Python 3"
    }
  },
  "cells": [
    {
      "cell_type": "markdown",
      "metadata": {
        "id": "view-in-github",
        "colab_type": "text"
      },
      "source": [
        "<a href=\"https://colab.research.google.com/github/ftcelepcikay/Python-Exercises/blob/master/Exercise_16_Password_Generator.ipynb\" target=\"_parent\"><img src=\"https://colab.research.google.com/assets/colab-badge.svg\" alt=\"Open In Colab\"/></a>"
      ]
    },
    {
      "cell_type": "code",
      "metadata": {
        "id": "2sPcNRVDvFZl",
        "colab_type": "code",
        "colab": {}
      },
      "source": [
        "import random\n",
        "import string"
      ],
      "execution_count": 0,
      "outputs": []
    },
    {
      "cell_type": "code",
      "metadata": {
        "id": "XSMYsNZmvgqi",
        "colab_type": "code",
        "colab": {}
      },
      "source": [
        "def passwordGen(size = 8, str = string.ascii_letters + string.digits + string.punctuation):\n",
        "  pswrd = \"\".join(random.sample(str, size))\n",
        "  return pswrd"
      ],
      "execution_count": 0,
      "outputs": []
    },
    {
      "cell_type": "code",
      "metadata": {
        "id": "ukdBRbPFvj0L",
        "colab_type": "code",
        "colab": {
          "base_uri": "https://localhost:8080/",
          "height": 34
        },
        "outputId": "b98071a1-bc27-4337-854a-be6a64c0a99d"
      },
      "source": [
        "string.ascii_letters + string.digits + string.punctuation"
      ],
      "execution_count": 11,
      "outputs": [
        {
          "output_type": "execute_result",
          "data": {
            "text/plain": [
              "'abcdefghijklmnopqrstuvwxyzABCDEFGHIJKLMNOPQRSTUVWXYZ0123456789!\"#$%&\\'()*+,-./:;<=>?@[\\\\]^_`{|}~'"
            ]
          },
          "metadata": {
            "tags": []
          },
          "execution_count": 11
        }
      ]
    },
    {
      "cell_type": "code",
      "metadata": {
        "id": "_qyef3w1vlNd",
        "colab_type": "code",
        "colab": {
          "base_uri": "https://localhost:8080/",
          "height": 185
        },
        "outputId": "df1363c2-555d-4268-e488-0e9d8fce99df"
      },
      "source": [
        "for i in range(10):\n",
        "  print(passwordGen())"
      ],
      "execution_count": 13,
      "outputs": [
        {
          "output_type": "stream",
          "text": [
            "p1\"ou)5Y\n",
            "Tp%v/WHU\n",
            "FBA[?v`+\n",
            "<o.a)#h/\n",
            "al(;PQ.I\n",
            "_oi1|`S@\n",
            "r9|c'\"0m\n",
            "Tu|1@p[/\n",
            "\"7`-Kd{e\n",
            "W4L\"q{nr\n"
          ],
          "name": "stdout"
        }
      ]
    },
    {
      "cell_type": "code",
      "metadata": {
        "id": "T4l0OBJExV-_",
        "colab_type": "code",
        "colab": {}
      },
      "source": [
        ""
      ],
      "execution_count": 0,
      "outputs": []
    }
  ]
}