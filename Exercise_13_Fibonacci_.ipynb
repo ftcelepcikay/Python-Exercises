{
  "nbformat": 4,
  "nbformat_minor": 0,
  "metadata": {
    "colab": {
      "name": "Exercise 13_Fibonacci .ipynb",
      "provenance": [],
      "authorship_tag": "ABX9TyP7ZKyEfOImNgcsnNBYAGR0",
      "include_colab_link": true
    },
    "kernelspec": {
      "name": "python3",
      "display_name": "Python 3"
    }
  },
  "cells": [
    {
      "cell_type": "markdown",
      "metadata": {
        "id": "view-in-github",
        "colab_type": "text"
      },
      "source": [
        "<a href=\"https://colab.research.google.com/github/ftcelepcikay/Python-Exercises/blob/master/Exercise_13_Fibonacci_.ipynb\" target=\"_parent\"><img src=\"https://colab.research.google.com/assets/colab-badge.svg\" alt=\"Open In Colab\"/></a>"
      ]
    },
    {
      "cell_type": "markdown",
      "metadata": {
        "id": "Y8luc4YXVVYh",
        "colab_type": "text"
      },
      "source": [
        "Write a program that asks the user how many Fibonnaci numbers to generate and then generates them. Take this opportunity to think about how you can use functions. Make sure to ask the user to enter the number of numbers in the sequence to generate.(Hint: The Fibonnaci seqence is a sequence of numbers where the next number in the sequence is the sum of the previous two numbers in the sequence. The sequence looks like this: 1, 1, 2, 3, 5, 8, 13, …)"
      ]
    },
    {
      "cell_type": "code",
      "metadata": {
        "id": "Fg93aymanJnB",
        "colab_type": "code",
        "colab": {}
      },
      "source": [
        "def fibonacciFun(num):\n",
        "  fibonacci = []\n",
        "  if (num == 1):\n",
        "    fibonacci = [1]\n",
        "  elif(num == 2):\n",
        "    fibonacci = [1,1]\n",
        "  else:\n",
        "    i=2\n",
        "    fibonacci = [1,1]\n",
        "    while(i<num):\n",
        "      fibonacci.append(fibonacci[-1]+fibonacci[-2])\n",
        "      i+=1\n",
        "  return fibonacci"
      ],
      "execution_count": 0,
      "outputs": []
    },
    {
      "cell_type": "code",
      "metadata": {
        "id": "iUJSPl0FVcug",
        "colab_type": "code",
        "colab": {
          "base_uri": "https://localhost:8080/",
          "height": 68
        },
        "outputId": "25ba412a-1e7c-40f6-bb6d-fcbb59144440"
      },
      "source": [
        "x = int(input(\"Enter a positive integer for the length of the fibnonacci list:\"))\n",
        "while (x<1):\n",
        "  x = int(input(\"Enter a positive integer for the length of the fibnonacci list:\"))\n",
        "print(fibonacciFun(x))"
      ],
      "execution_count": 16,
      "outputs": [
        {
          "output_type": "stream",
          "text": [
            "Enter a positive integer for the length of the fibnonacci list:-9\n",
            "Enter a positive integer for the length of the fibnonacci list:9\n",
            "[1, 1, 2, 3, 5, 8, 13, 21, 34]\n"
          ],
          "name": "stdout"
        }
      ]
    },
    {
      "cell_type": "code",
      "metadata": {
        "id": "XXDtW62gVn9x",
        "colab_type": "code",
        "colab": {}
      },
      "source": [
        ""
      ],
      "execution_count": 0,
      "outputs": []
    }
  ]
}