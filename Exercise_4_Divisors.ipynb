{
  "nbformat": 4,
  "nbformat_minor": 0,
  "metadata": {
    "colab": {
      "name": "Exercise 4 - Divisors.ipynb",
      "provenance": [],
      "authorship_tag": "ABX9TyO6w7A1D8XPfi30LBjvZQ+i",
      "include_colab_link": true
    },
    "kernelspec": {
      "name": "python3",
      "display_name": "Python 3"
    },
    "language_info": {
      "name": "python"
    }
  },
  "cells": [
    {
      "cell_type": "markdown",
      "metadata": {
        "id": "view-in-github",
        "colab_type": "text"
      },
      "source": [
        "<a href=\"https://colab.research.google.com/github/ftcelepcikay/Python-Exercises/blob/master/Exercise_4_Divisors.ipynb\" target=\"_parent\"><img src=\"https://colab.research.google.com/assets/colab-badge.svg\" alt=\"Open In Colab\"/></a>"
      ]
    },
    {
      "cell_type": "markdown",
      "metadata": {
        "id": "OnmU4QkBEY8I"
      },
      "source": [
        "Exercise 4 - List of all divisors\n",
        "\n",
        "Create a program that asks the user for a number and then prints out a list of all the divisors of that number. (If you don’t know what a divisor is, it is a number that divides evenly into another number. For example, 13 is a divisor of 26 because 26 / 13 has no remainder.)"
      ]
    },
    {
      "cell_type": "code",
      "metadata": {
        "id": "mItKFVy2AlaJ"
      },
      "source": [
        "def divisors(x):\n",
        "  divs = []\n",
        "  for elem in range(1,x+1):\n",
        "    if(x%elem == 0):\n",
        "      # print(\"%i is a divisor of %i\"%(x,a))\n",
        "      divs.append(elem)    \n",
        "  return divs"
      ],
      "execution_count": 5,
      "outputs": []
    },
    {
      "cell_type": "code",
      "metadata": {
        "colab": {
          "base_uri": "https://localhost:8080/"
        },
        "id": "M4_2DvFkAlcQ",
        "outputId": "0deed7a8-ee6b-4601-f862-a825f12db85c"
      },
      "source": [
        "print(divisors(20))"
      ],
      "execution_count": 6,
      "outputs": [
        {
          "output_type": "stream",
          "text": [
            "[1, 2, 4, 5, 10, 20]\n"
          ],
          "name": "stdout"
        }
      ]
    },
    {
      "cell_type": "code",
      "metadata": {
        "colab": {
          "base_uri": "https://localhost:8080/"
        },
        "id": "b77E1R67BLqM",
        "outputId": "67120e35-1256-468c-98e6-2373c108f9a8"
      },
      "source": [
        "print(divisors(29))"
      ],
      "execution_count": 7,
      "outputs": [
        {
          "output_type": "stream",
          "text": [
            "[1, 29]\n"
          ],
          "name": "stdout"
        }
      ]
    },
    {
      "cell_type": "code",
      "metadata": {
        "colab": {
          "base_uri": "https://localhost:8080/"
        },
        "id": "OpDcLS7jBQq6",
        "outputId": "f2533514-922f-4703-a65a-996131fbf411"
      },
      "source": [
        "a = int(input(\"enter an integer: \"))\n",
        "print(divisors(a))"
      ],
      "execution_count": 8,
      "outputs": [
        {
          "output_type": "stream",
          "text": [
            "enter an integer: 22\n",
            "[1, 2, 11, 22]\n"
          ],
          "name": "stdout"
        }
      ]
    },
    {
      "cell_type": "code",
      "metadata": {
        "id": "RmJeGTQVEEK3"
      },
      "source": [
        ""
      ],
      "execution_count": null,
      "outputs": []
    }
  ]
}