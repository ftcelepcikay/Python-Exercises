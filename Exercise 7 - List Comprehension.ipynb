{
 "cells": [
  {
   "cell_type": "markdown",
   "metadata": {},
   "source": [
    "List comprehensions\n",
    "The idea of a list comprehension is to make code more compact to accomplish tasks involving lists. Take for example this code:\n",
    "\n",
    "  years_of_birth = [1990, 1991, 1990, 1990, 1992, 1991]\n",
    "  ages = []\n",
    "  for year in years_of_birth: \n",
    "    ages.append(2014 - year)\n",
    "And at the end, the variable ages has the list [24, 23, 24, 24, 22, 23]. What this code did was translate the years of birth into ages, and it took us a for loop and an append statement to a new list to do that.\n",
    "\n",
    "Compare to this piece of code:\n",
    "\n",
    "  years_of_birth = [1990, 1991, 1990, 1990, 1992, 1991]\n",
    "  ages = [2014 - year for year in years_of_birth]\n",
    "The second line here - the line with ages is a list comprehension.\n",
    "\n",
    "It accomplishes the same thing as the first code sample - at the end, the ages variable has a list containing [24, 23, 24, 24, 22, 23], the ages corresponding to all the birthdates."
   ]
  },
  {
   "cell_type": "code",
   "execution_count": 2,
   "metadata": {},
   "outputs": [
    {
     "name": "stdout",
     "output_type": "stream",
     "text": [
      "[4, 16, 36, 64, 100]\n"
     ]
    }
   ],
   "source": [
    "a = [1, 4, 9, 16, 25, 36, 49, 64, 81, 100]\n",
    "b = [elem for elem in a if(elem%2==0)]\n",
    "print(b)"
   ]
  },
  {
   "cell_type": "code",
   "execution_count": null,
   "metadata": {},
   "outputs": [],
   "source": []
  }
 ],
 "metadata": {
  "kernelspec": {
   "display_name": "Python 3",
   "language": "python",
   "name": "python3"
  },
  "language_info": {
   "codemirror_mode": {
    "name": "ipython",
    "version": 3
   },
   "file_extension": ".py",
   "mimetype": "text/x-python",
   "name": "python",
   "nbconvert_exporter": "python",
   "pygments_lexer": "ipython3",
   "version": "3.7.3"
  }
 },
 "nbformat": 4,
 "nbformat_minor": 2
}
