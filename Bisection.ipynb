{
  "nbformat": 4,
  "nbformat_minor": 0,
  "metadata": {
    "colab": {
      "name": "Bisection.ipynb",
      "provenance": [],
      "authorship_tag": "ABX9TyOqhjMCH0qmWf7mJ9s0erGn",
      "include_colab_link": true
    },
    "kernelspec": {
      "name": "python3",
      "display_name": "Python 3"
    }
  },
  "cells": [
    {
      "cell_type": "markdown",
      "metadata": {
        "id": "view-in-github",
        "colab_type": "text"
      },
      "source": [
        "<a href=\"https://colab.research.google.com/github/ftcelepcikay/Python-Exercises/blob/master/Bisection.ipynb\" target=\"_parent\"><img src=\"https://colab.research.google.com/assets/colab-badge.svg\" alt=\"Open In Colab\"/></a>"
      ]
    },
    {
      "cell_type": "markdown",
      "metadata": {
        "id": "-21A-0bRFrKg",
        "colab_type": "text"
      },
      "source": [
        "Bisection method to find the root of f(x) = x^3+x^2-2"
      ]
    },
    {
      "cell_type": "code",
      "metadata": {
        "id": "dahUKjdpFeNM",
        "colab_type": "code",
        "colab": {}
      },
      "source": [
        "def f(x):\n",
        "  return x**3 + x**2 - 2"
      ],
      "execution_count": 0,
      "outputs": []
    },
    {
      "cell_type": "code",
      "metadata": {
        "id": "7qIHWkINDRiR",
        "colab_type": "code",
        "colab": {}
      },
      "source": [
        "def bisection(a,b):\n",
        "  if(f(a)*f(b)>=0):\n",
        "    print(\"there is no f(x)=0 in (a,b)\")  \n",
        "  eps = 1e-5\n",
        "  i = 0\n",
        "\n",
        "  while(abs(b-a)>=eps):    \n",
        "    x = (a+b)/2\n",
        "    print(\"iteration: \", i, \"\\t x:\",x, \"\\t f(x):\",f(x))\n",
        "    if(f(x)==0):\n",
        "      return x\n",
        "    else:\n",
        "      if(f(a)*f(x) < 0):\n",
        "        b = x\n",
        "      else:\n",
        "        a = x\n",
        "      i+=1\n",
        "  x = (a+b)/2\n",
        "  return x"
      ],
      "execution_count": 0,
      "outputs": []
    },
    {
      "cell_type": "code",
      "metadata": {
        "id": "nSVxFRQrGNcL",
        "colab_type": "code",
        "colab": {
          "base_uri": "https://localhost:8080/",
          "height": 493
        },
        "outputId": "0aa9aa43-03a6-4af6-bfd6-9ff6b7fdb49f"
      },
      "source": [
        "a = -200\n",
        "b = 300\n",
        "\n",
        "print(\"\\nThe root of f(x) is: \", bisection(a,b))"
      ],
      "execution_count": 3,
      "outputs": [
        {
          "output_type": "stream",
          "text": [
            "iteration:  0 \t x: 50.0 \t f(x): 127498.0\n",
            "iteration:  1 \t x: -75.0 \t f(x): -416252.0\n",
            "iteration:  2 \t x: -12.5 \t f(x): -1798.875\n",
            "iteration:  3 \t x: 18.75 \t f(x): 6941.359375\n",
            "iteration:  4 \t x: 3.125 \t f(x): 38.283203125\n",
            "iteration:  5 \t x: -4.6875 \t f(x): -83.024169921875\n",
            "iteration:  6 \t x: -0.78125 \t f(x): -1.866485595703125\n",
            "iteration:  7 \t x: 1.171875 \t f(x): 0.9826164245605469\n",
            "iteration:  8 \t x: 0.1953125 \t f(x): -1.9544024467468262\n",
            "iteration:  9 \t x: 0.68359375 \t f(x): -1.2132559418678284\n",
            "iteration:  10 \t x: 0.927734375 \t f(x): -0.3408162370324135\n",
            "iteration:  11 \t x: 1.0498046875 \t f(x): 0.25906900595873594\n",
            "iteration:  12 \t x: 0.98876953125 \t f(x): -0.05564926646184176\n",
            "iteration:  13 \t x: 1.019287109375 \t f(x): 0.09793069188890513\n",
            "iteration:  14 \t x: 1.0040283203125 \t f(x): 0.020206576389682596\n",
            "iteration:  15 \t x: 0.99639892578125 \t f(x): -0.017953546849412305\n",
            "iteration:  16 \t x: 1.000213623046875 \t f(x): 0.001068297783348271\n",
            "iteration:  17 \t x: 0.9983062744140625 \t f(x): -0.008457157963047024\n",
            "iteration:  18 \t x: 0.9992599487304688 \t f(x): -0.003698066049438342\n",
            "iteration:  19 \t x: 0.9997367858886719 \t f(x): -0.0013157934482028733\n",
            "iteration:  20 \t x: 0.9999752044677734 \t f(x): -0.00012397520187423794\n",
            "iteration:  21 \t x: 1.0000944137573242 \t f(x): 0.0004721044432929311\n",
            "iteration:  22 \t x: 1.0000348091125488 \t f(x): 0.00017405040948359485\n",
            "iteration:  23 \t x: 1.0000050067901611 \t f(x): 2.5034051077454933e-05\n",
            "iteration:  24 \t x: 0.9999901056289673 \t f(x): -4.9471463570149865e-05\n",
            "iteration:  25 \t x: 0.9999975562095642 \t f(x): -1.2218928290508302e-05\n",
            "\n",
            "The root of f(x) is:  1.0000012814998627\n"
          ],
          "name": "stdout"
        }
      ]
    },
    {
      "cell_type": "code",
      "metadata": {
        "id": "bL29Eg6iGsJz",
        "colab_type": "code",
        "colab": {}
      },
      "source": [
        ""
      ],
      "execution_count": 0,
      "outputs": []
    }
  ]
}