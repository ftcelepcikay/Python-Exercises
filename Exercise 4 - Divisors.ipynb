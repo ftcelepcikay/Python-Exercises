{
  "nbformat": 4,
  "nbformat_minor": 0,
  "metadata": {
    "colab": {
      "name": "Divisors.ipynb",
      "provenance": [],
      "authorship_tag": "ABX9TyNynkd26dDbp3uktP8iShps",
      "include_colab_link": true
    },
    "kernelspec": {
      "name": "python3",
      "display_name": "Python 3"
    }
  },
  "cells": [
    {
      "cell_type": "markdown",
      "metadata": {
        "id": "view-in-github",
        "colab_type": "text"
      },
      "source": [
        "<a href=\"https://colab.research.google.com/github/ftcelepcikay/Python-Exercises/blob/master/Exercise%204%20-%20Divisors.ipynb\" target=\"_parent\"><img src=\"https://colab.research.google.com/assets/colab-badge.svg\" alt=\"Open In Colab\"/></a>"
      ]
    },
    {
      "cell_type": "markdown",
      "metadata": {
        "id": "3XmrPZ9IQdTt",
        "colab_type": "text"
      },
      "source": [
        "Create a program that asks the user for a number and then prints out a list of all the divisors of that number. (If you don’t know what a divisor is, it is a number that divides evenly into another number. For example, 13 is a divisor of 26 because 26 / 13 has no remainder.)"
      ]
    },
    {
      "cell_type": "code",
      "metadata": {
        "id": "O_JoO1lSKfvm",
        "colab_type": "code",
        "colab": {
          "base_uri": "https://localhost:8080/",
          "height": 34
        },
        "outputId": "b372b75f-4c3b-46f1-98f0-a53417d76ae9"
      },
      "source": [
        "a = int(input(\"Please enter an integer number:\"))"
      ],
      "execution_count": 27,
      "outputs": [
        {
          "output_type": "stream",
          "text": [
            "Please enter an integer number:12\n"
          ],
          "name": "stdout"
        }
      ]
    },
    {
      "cell_type": "code",
      "metadata": {
        "id": "uI298iuiMOb1",
        "colab_type": "code",
        "colab": {}
      },
      "source": [
        "alln = range(1,a+1)\n",
        "divisors =[]"
      ],
      "execution_count": 0,
      "outputs": []
    },
    {
      "cell_type": "code",
      "metadata": {
        "id": "AzKytCRxMlZr",
        "colab_type": "code",
        "colab": {
          "base_uri": "https://localhost:8080/",
          "height": 118
        },
        "outputId": "931555f6-b0d4-420b-867b-c3a663570395"
      },
      "source": [
        "for x in alln:\n",
        "  if (a%x==0):\n",
        "    print(\"%i is a divisor of %i\"%(x,a))\n",
        "    divisors.append(x)"
      ],
      "execution_count": 30,
      "outputs": [
        {
          "output_type": "stream",
          "text": [
            "1 is a divisor of 12\n",
            "2 is a divisor of 12\n",
            "3 is a divisor of 12\n",
            "4 is a divisor of 12\n",
            "6 is a divisor of 12\n",
            "12 is a divisor of 12\n"
          ],
          "name": "stdout"
        }
      ]
    },
    {
      "cell_type": "code",
      "metadata": {
        "id": "o4hZMzKlQVHC",
        "colab_type": "code",
        "colab": {}
      },
      "source": [
        ""
      ],
      "execution_count": 0,
      "outputs": []
    },
    {
      "cell_type": "code",
      "metadata": {
        "id": "6SBTRtZTN6Vj",
        "colab_type": "code",
        "colab": {
          "base_uri": "https://localhost:8080/",
          "height": 34
        },
        "outputId": "45b88d08-162e-49e1-ba85-94623df1489b"
      },
      "source": [
        "print(divisors)"
      ],
      "execution_count": 31,
      "outputs": [
        {
          "output_type": "stream",
          "text": [
            "[1, 2, 3, 4, 6, 12]\n"
          ],
          "name": "stdout"
        }
      ]
    }
  ]
}