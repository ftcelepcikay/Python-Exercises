{
  "nbformat": 4,
  "nbformat_minor": 0,
  "metadata": {
    "colab": {
      "name": "list_element.ipynb",
      "provenance": [],
      "authorship_tag": "ABX9TyP5TFkQHTAH3XBFLiGlbCj4",
      "include_colab_link": true
    },
    "kernelspec": {
      "name": "python3",
      "display_name": "Python 3"
    }
  },
  "cells": [
    {
      "cell_type": "markdown",
      "metadata": {
        "id": "view-in-github",
        "colab_type": "text"
      },
      "source": [
        "<a href=\"https://colab.research.google.com/github/ftcelepcikay/Python-Exercises/blob/master/list_element.ipynb\" target=\"_parent\"><img src=\"https://colab.research.google.com/assets/colab-badge.svg\" alt=\"Open In Colab\"/></a>"
      ]
    },
    {
      "cell_type": "code",
      "metadata": {
        "id": "O9_gP_Fe6tY_",
        "colab_type": "code",
        "colab": {}
      },
      "source": [
        "def searchelement(li, el):\n",
        "  for ind in range(len(li)):\n",
        "    elem = li[ind]\n",
        "    if(elem == el):\n",
        "      return ind\n",
        "\n",
        "  return -1    \n"
      ],
      "execution_count": 0,
      "outputs": []
    },
    {
      "cell_type": "code",
      "metadata": {
        "id": "e31BJUHU7XOw",
        "colab_type": "code",
        "colab": {
          "base_uri": "https://localhost:8080/",
          "height": 34
        },
        "outputId": "408f0acd-a6d2-436e-f5d1-9124b4c5a11c"
      },
      "source": [
        "a = [1,2,5,3,0]\n",
        "x = 6\n",
        "res = searchelement(a, x)\n",
        "print(res)"
      ],
      "execution_count": 4,
      "outputs": [
        {
          "output_type": "stream",
          "text": [
            "-1\n"
          ],
          "name": "stdout"
        }
      ]
    },
    {
      "cell_type": "code",
      "metadata": {
        "id": "9GDoK_8e7k85",
        "colab_type": "code",
        "colab": {}
      },
      "source": [
        ""
      ],
      "execution_count": 0,
      "outputs": []
    }
  ]
}