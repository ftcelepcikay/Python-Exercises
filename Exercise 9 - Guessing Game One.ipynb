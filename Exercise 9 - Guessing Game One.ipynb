{
 "cells": [
  {
   "cell_type": "markdown",
   "metadata": {},
   "source": [
    "Generate a random number between 1 and 9 (including 1 and 9). Ask the user to guess the number, then tell them whether they guessed too low, too high, or exactly right. \n",
    "\n",
    "Extras:\n",
    "\n",
    "Keep the game going until the user types “exit”\n",
    "Keep track of how many guesses the user has taken, and when the game ends, print this out."
   ]
  },
  {
   "cell_type": "code",
   "execution_count": 1,
   "metadata": {},
   "outputs": [],
   "source": [
    "def playgame(num): \n",
    "    no_of_guess = 1\n",
    "    guess = int(input(\"Please guess the number. It is [1,9]. Your guess is: \"))\n",
    "    while (guess != num):\n",
    "        if(guess > num):\n",
    "            guess = int(input(\"Your guess is too high!!! Guess again: \"))\n",
    "        else:\n",
    "            guess = int(input(\"Your guess is too low!!! Guess again: \"))   \n",
    "        no_of_guess +=1\n",
    "    return no_of_guess"
   ]
  },
  {
   "cell_type": "code",
   "execution_count": 2,
   "metadata": {},
   "outputs": [
    {
     "data": {
      "text/plain": [
       "5"
      ]
     },
     "execution_count": 2,
     "metadata": {},
     "output_type": "execute_result"
    }
   ],
   "source": [
    "# generate a random number between 1 and 9 (including 1 and 9)\n",
    "import random\n",
    "num = random.randint(1,9)\n",
    "num"
   ]
  },
  {
   "cell_type": "code",
   "execution_count": null,
   "metadata": {},
   "outputs": [
    {
     "name": "stdout",
     "output_type": "stream",
     "text": [
      "Please guess the number. It is [1,9]. Your guess is: 3\n",
      "Your guess is too high!!! Guess again: 2\n",
      "You won!!! You found it in 2 guesses. Do you want to play game. Enter play if you want. Enter quit if you do not want to play: play\n",
      "Please guess the number. It is [1,9]. Your guess is: 5\n",
      "Your guess is too low!!! Guess again: 7\n",
      "Your guess is too low!!! Guess again: 9\n"
     ]
    }
   ],
   "source": [
    "wantplaygame = 'play'\n",
    "while (wantplaygame != 'quit'):\n",
    "    num = random.randint(1,9)\n",
    "    nog = playgame(num)\n",
    "    wantplaygame = input(\"You won!!! You found it in %d guesses. Do you want to play game. Enter play if you want. Enter quit if you do not want to play: \" %(nog))\n"
   ]
  }
 ],
 "metadata": {
  "kernelspec": {
   "display_name": "Python 3",
   "language": "python",
   "name": "python3"
  },
  "language_info": {
   "codemirror_mode": {
    "name": "ipython",
    "version": 3
   },
   "file_extension": ".py",
   "mimetype": "text/x-python",
   "name": "python",
   "nbconvert_exporter": "python",
   "pygments_lexer": "ipython3",
   "version": "3.7.3"
  }
 },
 "nbformat": 4,
 "nbformat_minor": 2
}
