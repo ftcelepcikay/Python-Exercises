{
  "nbformat": 4,
  "nbformat_minor": 0,
  "metadata": {
    "colab": {
      "name": "multiprocessing_example.ipynb",
      "provenance": [],
      "authorship_tag": "ABX9TyM2KZ3HihwARbteDNtYnpGc",
      "include_colab_link": true
    },
    "kernelspec": {
      "name": "python3",
      "display_name": "Python 3"
    }
  },
  "cells": [
    {
      "cell_type": "markdown",
      "metadata": {
        "id": "view-in-github",
        "colab_type": "text"
      },
      "source": [
        "<a href=\"https://colab.research.google.com/github/ftcelepcikay/Python-Exercises/blob/master/multiprocessing_example.ipynb\" target=\"_parent\"><img src=\"https://colab.research.google.com/assets/colab-badge.svg\" alt=\"Open In Colab\"/></a>"
      ]
    },
    {
      "cell_type": "code",
      "metadata": {
        "id": "wZHB0Ki1RFtL",
        "colab_type": "code",
        "colab": {
          "base_uri": "https://localhost:8080/",
          "height": 34
        },
        "outputId": "3136411a-dc94-4357-bd57-80d8ad001e5e"
      },
      "source": [
        "from joblib import Parallel, delayed\n",
        "import multiprocessing\n",
        "     \n",
        "# what are your inputs, and what operation do you want to \n",
        "# perform on each input. For example...\n",
        "inputs = range(10) \n",
        "def processInput(i):\n",
        "    return i * i\n",
        " \n",
        "num_cores = multiprocessing.cpu_count()\n",
        "     \n",
        "results = Parallel(n_jobs=num_cores)(delayed(processInput)(i) for i in inputs)\n",
        "\n",
        "print(results)"
      ],
      "execution_count": 1,
      "outputs": [
        {
          "output_type": "stream",
          "text": [
            "[0, 1, 4, 9, 16, 25, 36, 49, 64, 81]\n"
          ],
          "name": "stdout"
        }
      ]
    },
    {
      "cell_type": "code",
      "metadata": {
        "id": "ab9eDkD4RKVJ",
        "colab_type": "code",
        "colab": {}
      },
      "source": [
        ""
      ],
      "execution_count": 0,
      "outputs": []
    }
  ]
}