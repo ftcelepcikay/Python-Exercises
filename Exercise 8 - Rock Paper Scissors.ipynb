{
 "cells": [
  {
   "cell_type": "code",
   "execution_count": null,
   "metadata": {},
   "outputs": [],
   "source": []
  },
  {
   "cell_type": "code",
   "execution_count": 1,
   "metadata": {},
   "outputs": [],
   "source": [
    "def RPS(user1,user2):\n",
    "    if(user1 == 'rock' and user2 == 'scissor'):\n",
    "        print(\"user1 wins.\", user1, \" > \", user2)\n",
    "    elif(user1 == 'rock' and user2 == 'paper'):\n",
    "        print(\"user2 wins.\", user1, \" < \", user2)\n",
    "    elif(user1 == 'scissor' and user2 == 'rock'):\n",
    "        print(\"user2 wins.\", user1, \" < \", user2)\n",
    "    elif(user1 == 'scissor' and user2 == 'paper'):\n",
    "        print(\"user1 wins.\", user1, \" > \", user2)\n",
    "    elif(user1 == 'paper' and user2 == 'rock'):\n",
    "        print(\"user1 wins.\", user1, \" > \", user2)\n",
    "    elif(user1 == 'paper' and user2 == 'scissor'):\n",
    "        print(\"user2 wins.\", user1, \" < \", user2)    \n",
    "    else:\n",
    "        print(\"Draw.\", user1, \" = \", user2)        \n",
    "    return"
   ]
  },
  {
   "cell_type": "code",
   "execution_count": 3,
   "metadata": {},
   "outputs": [
    {
     "name": "stdout",
     "output_type": "stream",
     "text": [
      "If you want to play please choose rock, scissor or paper. Type q to quit: rock\n",
      "If you want to play please choose rock, scissor or paper. Type q to quit: paper\n",
      "user2 wins. rock  <  paper\n",
      "If you want to play please choose rock, scissor or paper. Type q to quit: q\n",
      "If you want to play please choose rock, scissor or paper. Type q to quit: rock\n"
     ]
    }
   ],
   "source": [
    "user1 = input('If you want to play please choose rock, scissor or paper. Type q to quit: ')\n",
    "user2 = input('If you want to play please choose rock, scissor or paper. Type q to quit: ')\n",
    "\n",
    "while(user1 != \"q\" and user2!=\"q\"):\n",
    "    RPS(user1,user2)\n",
    "    user1 = input('If you want to play please choose rock, scissor or paper. Type q to quit: ')\n",
    "    user2 = input('If you want to play please choose rock, scissor or paper. Type q to quit: ')\n"
   ]
  },
  {
   "cell_type": "code",
   "execution_count": null,
   "metadata": {},
   "outputs": [],
   "source": []
  }
 ],
 "metadata": {
  "kernelspec": {
   "display_name": "Python 3",
   "language": "python",
   "name": "python3"
  },
  "language_info": {
   "codemirror_mode": {
    "name": "ipython",
    "version": 3
   },
   "file_extension": ".py",
   "mimetype": "text/x-python",
   "name": "python",
   "nbconvert_exporter": "python",
   "pygments_lexer": "ipython3",
   "version": "3.7.3"
  }
 },
 "nbformat": 4,
 "nbformat_minor": 2
}
