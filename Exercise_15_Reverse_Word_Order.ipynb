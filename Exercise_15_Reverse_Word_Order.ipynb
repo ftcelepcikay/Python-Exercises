{
  "nbformat": 4,
  "nbformat_minor": 0,
  "metadata": {
    "colab": {
      "name": "Exercise 15_Reverse Word Order.ipynb",
      "provenance": [],
      "authorship_tag": "ABX9TyN8x+hNzi2OnzeE1+z10u/a",
      "include_colab_link": true
    },
    "kernelspec": {
      "name": "python3",
      "display_name": "Python 3"
    }
  },
  "cells": [
    {
      "cell_type": "markdown",
      "metadata": {
        "id": "view-in-github",
        "colab_type": "text"
      },
      "source": [
        "<a href=\"https://colab.research.google.com/github/ftcelepcikay/Python-Exercises/blob/master/Exercise_15_Reverse_Word_Order.ipynb\" target=\"_parent\"><img src=\"https://colab.research.google.com/assets/colab-badge.svg\" alt=\"Open In Colab\"/></a>"
      ]
    },
    {
      "cell_type": "markdown",
      "metadata": {
        "id": "Y8luc4YXVVYh",
        "colab_type": "text"
      },
      "source": [
        "Write a program (using functions!) that asks the user for a long string containing multiple words. Print back to the user the same string, except with the words in backwards order. For example, say I type the string:\n",
        "\n",
        "  \"My name is Turker\"\n",
        "\n",
        "Then I would see the string:\n",
        "\n",
        "  \"Turker is name My\"\n",
        "\n",
        "shown back to me.\n",
        "\n"
      ]
    },
    {
      "cell_type": "code",
      "metadata": {
        "id": "Fg93aymanJnB",
        "colab_type": "code",
        "colab": {}
      },
      "source": [
        "def reverse(str):  \n",
        "  newlist = []\n",
        "  words = str.split()\n",
        "  newlist = \" \".join(words[::-1])\n",
        "  return newlist"
      ],
      "execution_count": 0,
      "outputs": []
    },
    {
      "cell_type": "code",
      "metadata": {
        "id": "iUJSPl0FVcug",
        "colab_type": "code",
        "colab": {
          "base_uri": "https://localhost:8080/",
          "height": 34
        },
        "outputId": "215ff1ae-e381-4d94-efd5-877623d773b2"
      },
      "source": [
        "str1 = \"My name is Turker\"\n",
        "print(reverse(str1))"
      ],
      "execution_count": 2,
      "outputs": [
        {
          "output_type": "stream",
          "text": [
            "Turker is name My\n"
          ],
          "name": "stdout"
        }
      ]
    }
  ]
}