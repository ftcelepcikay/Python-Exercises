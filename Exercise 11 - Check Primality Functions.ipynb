{
 "cells": [
  {
   "cell_type": "code",
   "execution_count": 9,
   "metadata": {},
   "outputs": [],
   "source": [
    "import math\n",
    "def check_prime(num):\n",
    "    for i in range(2,int(math.sqrt(num))+1):  # it is important to add 1 to sqrt(num) as range is [a,b) format]\n",
    "        if(num%i == 0):\n",
    "            print(\"%d is not a prime number. %d = %d * %d \"%(num,num, i, num/i))\n",
    "            return   \n",
    "    print(\"%d is a prime number. \"%(num))               \n",
    "    return"
   ]
  },
  {
   "cell_type": "code",
   "execution_count": 10,
   "metadata": {},
   "outputs": [
    {
     "name": "stdout",
     "output_type": "stream",
     "text": [
      "2 is a prime number. \n",
      "3 is a prime number. \n",
      "4 is not a prime number. 4 = 2 * 2 \n",
      "5 is a prime number. \n",
      "6 is not a prime number. 6 = 2 * 3 \n",
      "7 is a prime number. \n",
      "8 is not a prime number. 8 = 2 * 4 \n",
      "9 is not a prime number. 9 = 3 * 3 \n",
      "10 is not a prime number. 10 = 2 * 5 \n",
      "11 is a prime number. \n",
      "12 is not a prime number. 12 = 2 * 6 \n",
      "13 is a prime number. \n",
      "14 is not a prime number. 14 = 2 * 7 \n",
      "15 is not a prime number. 15 = 3 * 5 \n",
      "16 is not a prime number. 16 = 2 * 8 \n",
      "17 is a prime number. \n",
      "18 is not a prime number. 18 = 2 * 9 \n",
      "19 is a prime number. \n",
      "20 is not a prime number. 20 = 2 * 10 \n"
     ]
    }
   ],
   "source": [
    "for a in range(2,21):\n",
    "    #print(a)\n",
    "    check_prime(a)\n",
    "    "
   ]
  },
  {
   "cell_type": "code",
   "execution_count": 12,
   "metadata": {},
   "outputs": [
    {
     "name": "stdout",
     "output_type": "stream",
     "text": [
      "5\n",
      "5 is a prime number. \n"
     ]
    }
   ],
   "source": [
    "a = int(input())\n",
    "check_prime(a)"
   ]
  },
  {
   "cell_type": "code",
   "execution_count": null,
   "metadata": {},
   "outputs": [],
   "source": []
  }
 ],
 "metadata": {
  "kernelspec": {
   "display_name": "Python 3",
   "language": "python",
   "name": "python3"
  },
  "language_info": {
   "codemirror_mode": {
    "name": "ipython",
    "version": 3
   },
   "file_extension": ".py",
   "mimetype": "text/x-python",
   "name": "python",
   "nbconvert_exporter": "python",
   "pygments_lexer": "ipython3",
   "version": "3.7.3"
  }
 },
 "nbformat": 4,
 "nbformat_minor": 2
}
