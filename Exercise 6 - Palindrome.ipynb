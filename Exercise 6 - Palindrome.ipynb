{
 "cells": [
  {
   "cell_type": "code",
   "execution_count": 7,
   "metadata": {},
   "outputs": [
    {
     "name": "stdout",
     "output_type": "stream",
     "text": [
      "string ' yaleelay ' is a palindrome\n"
     ]
    }
   ],
   "source": [
    "#!/usr/bin/python\n",
    "a = \"yaleelay\"\n",
    "#print len(a)\n",
    "\n",
    "for index in range(len(a)):\n",
    "    #print index, a[index],a[-1-index]\n",
    "    if a[index]==a[-1-index]:\n",
    "        continue\n",
    "    else:\n",
    "        print(\"string '\", a, \"' is not a palindrome\")\n",
    "        break\n",
    "if (index == len(a)-1):\n",
    "    print(\"string '\", a, \"' is a palindrome\")\n"
   ]
  },
  {
   "cell_type": "code",
   "execution_count": null,
   "metadata": {},
   "outputs": [],
   "source": []
  }
 ],
 "metadata": {
  "kernelspec": {
   "display_name": "Python 3",
   "language": "python",
   "name": "python3"
  },
  "language_info": {
   "codemirror_mode": {
    "name": "ipython",
    "version": 3
   },
   "file_extension": ".py",
   "mimetype": "text/x-python",
   "name": "python",
   "nbconvert_exporter": "python",
   "pygments_lexer": "ipython3",
   "version": "3.7.3"
  }
 },
 "nbformat": 4,
 "nbformat_minor": 2
}
